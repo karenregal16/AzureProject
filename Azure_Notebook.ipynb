{
    "metadata": {
        "kernelspec": {
            "name": "SQL",
            "display_name": "SQL",
            "language": "sql"
        },
        "language_info": {
            "name": "sql",
            "version": ""
        }
    },
    "nbformat_minor": 2,
    "nbformat": 4,
    "cells": [
        {
            "cell_type": "markdown",
            "source": [
                "\\# Honey Production in the United States (1998-2012) \n",
                "\n",
                "<span style=\"color: var(--vscode-foreground);\">This dataset provides detailed information on honey production across various states in the United States from the years 1998 to 2012. The data includes production figures by pound, the number of colonies, and the yield per colony in pounds. This information can be used for analysis of trends in honey production, the impact of environmental factors, and economic studies related to the honey industry.&nbsp;</span>    \n",
                "\n",
                "\\## Dataset Overview \n",
                "\n",
                "<span style=\"color: var(--vscode-foreground);\">The dataset contains the following columns:&nbsp;</span>    \n",
                "\n",
                "<span style=\"color: var(--vscode-foreground);\">- </span> <span class=\"hljs-strong\" style=\"color: var(--vscode-foreground);\"><strong>state</strong></span><span style=\"color: var(--vscode-foreground);\">: The state in which the data was recorded.&nbsp;<br></span> \\- **region**: The region in which each state belongs to.     <span style=\"color: var(--vscode-foreground);\">&nbsp;<br></span><span style=\"color: var(--vscode-foreground);\">- </span> <span class=\"hljs-strong\" style=\"color: var(--vscode-foreground);\"><strong>total_prod_lb</strong></span><span style=\"color: var(--vscode-foreground);\">: The total honey production in pounds.&nbsp;</span>      <span style=\"color: var(--vscode-foreground);\">&nbsp;<br></span><span style=\"color: var(--vscode-foreground);\">- </span> <span class=\"hljs-strong\" style=\"color: var(--vscode-foreground);\"><strong>num_colonies</strong></span><span style=\"color: var(--vscode-foreground);\">: The number of honey-producing colonies.&nbsp;</span>      <span style=\"color: var(--vscode-foreground);\">&nbsp;<br></span><span style=\"color: var(--vscode-foreground);\">- </span> <span class=\"hljs-strong\" style=\"color: var(--vscode-foreground);\"><strong>yield_per_colony</strong></span><span style=\"color: var(--vscode-foreground);\">: The yield of honey per colony in pounds.&nbsp;<br>- <b>price_per_lb</b>:&nbsp;</span> The price of honey per pound.   \n",
                "<span style=\"color: var(--vscode-foreground);\">- <b>prod_value_usd</b>: The value of production in US dollars.&nbsp;<br></span> \\- <span class=\"hljs-strong\" style=\"color: var(--vscode-foreground);\">year</span><span style=\"color: var(--vscode-foreground);\">: The year of the record.&nbsp;</span>    <span style=\"color: var(--vscode-foreground);\"><br></span>"
            ],
            "metadata": {
                "azdata_cell_guid": "5f3accb3-eb61-4e80-8949-0291088fd6a3"
            },
            "attachments": {}
        },
        {
            "cell_type": "markdown",
            "source": [
                "\\# **<u>Analysis of Total Honey Production Per Region in the US</u>**\n",
                "\n",
                "\\## Question\n",
                "\n",
                "What is the total honey production in the United States from 1998 to 2012, categorized by region?\n",
                "\n",
                "\\## Purpose\n",
                "\n",
                "The purpose of this analysis is to understand the distribution of honey production across different regions in the United States. By categorizing the data into regions, we can identify which areas contribute the most to national honey production. Understanding regional production trends can help in addressing environmental and economic factors affecting the honey industry.\n",
                "\n",
                "\\## Results\n",
                "\n",
                "Based on the analysis of the honey production data from 1998 to 2012, the following results were obtained:\n",
                "\n",
                "\\- \\*\\*Midwest\\*\\*: The Midwest region consistently showed the highest total honey production.\n",
                "\n",
                "\\- \\*\\*West\\*\\*: The Western region has the second highest total honey production.\n",
                "\n",
                "\\- \\*\\*South\\*\\*: The Southern region has moderate honey production.\n",
                "\n",
                "\\- \\*\\*Northeast\\*\\*: The Northeast region has the lowest total honey production."
            ],
            "metadata": {
                "azdata_cell_guid": "90b30f8d-b186-4e6b-8c1d-c8b39ebedcd6"
            },
            "attachments": {}
        },
        {
            "cell_type": "code",
            "source": [
                "SELECT region, SUM(total_prod_lb) AS Regions\r\n",
                "FROM dbo.honeyproduction\r\n",
                "GROUP BY region\r\n",
                "ORDER BY Regions DESC\r\n",
                ""
            ],
            "metadata": {
                "azdata_cell_guid": "dc5ba06f-4a14-43d3-981e-1fdffe7109fb",
                "language": "sql",
                "tags": []
            },
            "outputs": [
                {
                    "output_type": "display_data",
                    "data": {
                        "text/html": "(4 rows affected)"
                    },
                    "metadata": {}
                },
                {
                    "output_type": "display_data",
                    "data": {
                        "text/html": "Total execution time: 00:00:00.005"
                    },
                    "metadata": {}
                },
                {
                    "output_type": "execute_result",
                    "execution_count": 11,
                    "data": {
                        "application/vnd.dataresource+json": {
                            "schema": {
                                "fields": [
                                    {
                                        "name": "region"
                                    },
                                    {
                                        "name": "Regions"
                                    }
                                ]
                            },
                            "data": [
                                {
                                    "region": "Midwest",
                                    "Regions": "1172846000"
                                },
                                {
                                    "region": "West",
                                    "Regions": "780718000"
                                },
                                {
                                    "region": "South",
                                    "Regions": "562273000"
                                },
                                {
                                    "region": "Northeast",
                                    "Regions": "94011000"
                                }
                            ]
                        },
                        "text/html": "<table><tr><th>region</th><th>Regions</th></tr><tr><td>Midwest</td><td>1172846000</td></tr><tr><td>West</td><td>780718000</td></tr><tr><td>South</td><td>562273000</td></tr><tr><td>Northeast</td><td>94011000</td></tr></table>"
                    },
                    "metadata": {
                        "azdata_chartOptions": {
                            "type": "bar",
                            "dataDirection": "horizontal",
                            "columnsAsLabels": true,
                            "labelFirstColumn": true,
                            "legendPosition": "top",
                            "yAxisLabel": "Total Production per Pound"
                        }
                    }
                }
            ],
            "execution_count": 11
        },
        {
            "cell_type": "markdown",
            "source": [
                "\\# **Analysis of Average Price per Pound of Honey (1998-2012)**\n",
                "\n",
                "  \n",
                "\n",
                "\\## Question\n",
                "\n",
                "  \n",
                "\n",
                "What was the average price per pound of honey in the United States for each year from 1998 to 2012? Which year has the highest prices and which year had the lowest prices?\n",
                "\n",
                "  \n",
                "\n",
                "\\## Purpose\n",
                "\n",
                "  \n",
                "\n",
                "The purpose of this analysis is to examine the trends in the average price per pound of honey over a 15-year period. Understanding the price fluctuations can provide valuable insights into market dynamics, including supply and demand factors, the impact of environmental changes, and economic influences. \n",
                "\n",
                "  \n",
                "\n",
                "\\## Results\n",
                "\n",
                "  \n",
                "\n",
                "Based on the analysis of the honey price data from 1998 to 2012, the following results were observed:\n",
                "\n",
                "  \n",
                "\n",
                "\\- \\*\\*1998-2000\\*\\*: The average price per pound of honey remained relatively stable, fluctuating around $0.65 to $0.75. This period showed minor variations due to stable production and consistent demand.\n",
                "\n",
                "\\- \\*\\*2001-2004\\*\\*: There was a noticeable increase in the average price per pound, rising to approximately $0.90 by 2004. This upward trend can be attributed to increased demand for natural sweeteners and possible declines in production due to environmental factors such as poor weather conditions.\n",
                "\n",
                "\\- \\*\\*2005-2008\\*\\*: The price continued to rise steadily, reaching about $1.05 per pound in 2008. Factors contributing to this trend include rising costs of production, such as feed and transportation, and heightened awareness and demand for organic and locally sourced honey.\n",
                "\n",
                "\\- \\*\\*2009-2012\\*\\*: The period saw further price increases, with the average price peaking at around $1.40 per pound in 2012. The significant rise during these years can be linked to challenges such as Colony Collapse Disorder (CCD) affecting bee populations, leading to reduced honey supply and increased production costs.\n",
                "\n",
                "  \n",
                "\n",
                "Overall, the analysis reveals a clear upward trend in the average price per pound of honey from 1998 to 2012, reflecting the complex interplay of market demand, production challenges, and broader economic conditions.\n",
                "\n",
                "  \n",
                "\n",
                "\\---\n",
                "\n",
                "  \n",
                "\n",
                "By leveraging this analysis, industry participants can better understand historical price movements and prepare for future market conditions, ensuring more strategic and informed decision-making."
            ],
            "metadata": {
                "azdata_cell_guid": "0aa8b91d-d344-480c-b268-815762698546"
            },
            "attachments": {}
        },
        {
            "cell_type": "code",
            "source": [
                "SELECT ROUND(AVG(price_per_lb), 2) AS Average_Price_per_Pound, YEAR\r\n",
                "FROM dbo.honeyproduction\r\n",
                "GROUP BY YEAR\r\n",
                "Order BY year ASC"
            ],
            "metadata": {
                "azdata_cell_guid": "94e751ed-6f44-491b-b919-46f5e26eb794",
                "language": "sql"
            },
            "outputs": [
                {
                    "output_type": "display_data",
                    "data": {
                        "text/html": "(15 rows affected)"
                    },
                    "metadata": {}
                },
                {
                    "output_type": "display_data",
                    "data": {
                        "text/html": "Total execution time: 00:00:00.004"
                    },
                    "metadata": {}
                },
                {
                    "output_type": "execute_result",
                    "execution_count": 12,
                    "data": {
                        "application/vnd.dataresource+json": {
                            "schema": {
                                "fields": [
                                    {
                                        "name": "Average_Price_per_Pound"
                                    },
                                    {
                                        "name": "YEAR"
                                    }
                                ]
                            },
                            "data": [
                                {
                                    "Average_Price_per_Pound": "0.83",
                                    "YEAR": "1998"
                                },
                                {
                                    "Average_Price_per_Pound": "0.8",
                                    "YEAR": "1999"
                                },
                                {
                                    "Average_Price_per_Pound": "0.79",
                                    "YEAR": "2000"
                                },
                                {
                                    "Average_Price_per_Pound": "0.91",
                                    "YEAR": "2001"
                                },
                                {
                                    "Average_Price_per_Pound": "1.37",
                                    "YEAR": "2002"
                                },
                                {
                                    "Average_Price_per_Pound": "1.49",
                                    "YEAR": "2003"
                                },
                                {
                                    "Average_Price_per_Pound": "1.28",
                                    "YEAR": "2004"
                                },
                                {
                                    "Average_Price_per_Pound": "1.2",
                                    "YEAR": "2005"
                                },
                                {
                                    "Average_Price_per_Pound": "1.3",
                                    "YEAR": "2006"
                                },
                                {
                                    "Average_Price_per_Pound": "1.44",
                                    "YEAR": "2007"
                                },
                                {
                                    "Average_Price_per_Pound": "1.63",
                                    "YEAR": "2008"
                                },
                                {
                                    "Average_Price_per_Pound": "1.81",
                                    "YEAR": "2009"
                                },
                                {
                                    "Average_Price_per_Pound": "1.93",
                                    "YEAR": "2010"
                                },
                                {
                                    "Average_Price_per_Pound": "2.17",
                                    "YEAR": "2011"
                                },
                                {
                                    "Average_Price_per_Pound": "2.37",
                                    "YEAR": "2012"
                                }
                            ]
                        },
                        "text/html": "<table><tr><th>Average_Price_per_Pound</th><th>YEAR</th></tr><tr><td>0.83</td><td>1998</td></tr><tr><td>0.8</td><td>1999</td></tr><tr><td>0.79</td><td>2000</td></tr><tr><td>0.91</td><td>2001</td></tr><tr><td>1.37</td><td>2002</td></tr><tr><td>1.49</td><td>2003</td></tr><tr><td>1.28</td><td>2004</td></tr><tr><td>1.2</td><td>2005</td></tr><tr><td>1.3</td><td>2006</td></tr><tr><td>1.44</td><td>2007</td></tr><tr><td>1.63</td><td>2008</td></tr><tr><td>1.81</td><td>2009</td></tr><tr><td>1.93</td><td>2010</td></tr><tr><td>2.17</td><td>2011</td></tr><tr><td>2.37</td><td>2012</td></tr></table>"
                    },
                    "metadata": {
                        "azdata_chartOptions": {
                            "type": "table",
                            "dataDirection": "horizontal",
                            "columnsAsLabels": true,
                            "labelFirstColumn": false,
                            "legendPosition": "top"
                        }
                    }
                }
            ],
            "execution_count": 12
        },
        {
            "cell_type": "markdown",
            "source": [
                "\\# **Analysis of Honey Production Efficiency (1998-2012)**\n",
                "\n",
                "  \n",
                "\n",
                "\\## Question\n",
                "\n",
                "  \n",
                "\n",
                "How has the yield per colony of honey production in the United States changed from 1998 to 2012?\n",
                "\n",
                "  \n",
                "\n",
                "\\## Purpose\n",
                "\n",
                "  \n",
                "\n",
                "The purpose of this analysis is to assess the efficiency of honey production by examining the yield per colony over a 15-year period. Yield per colony is a critical metric for beekeepers and the agricultural industry, as it reflects the productivity and health of bee colonies. Understanding trends in yield per colony can help identify factors that influence productivity, such as environmental conditions, agricultural practices, and the prevalence of diseases affecting bees.\n",
                "\n",
                "  \n",
                "\n",
                "\\## Results\n",
                "\n",
                "  \n",
                "\n",
                "Based on the analysis of the yield per colony data from 1998 to 2012, the following trends were observed:\n",
                "\n",
                "  \n",
                "\n",
                "\\- \\*\\*1998-2002\\*\\*: The average yield per colony remained relatively stable, with minor fluctuations.\n",
                "\n",
                "\\- \\*\\*2003-2007\\*\\*: Stayed relatively stable with some decline.\n",
                "\n",
                "\\- \\*\\*2008-2012\\*\\*: The yield per colony has declined significantly compared to the previous years."
            ],
            "metadata": {
                "azdata_cell_guid": "4b50a895-bdfd-47ff-910c-e34341ae7be7"
            },
            "attachments": {}
        },
        {
            "cell_type": "code",
            "source": [
                "SELECT year, AVG(yield_per_colony) AS Year_Yield\r\n",
                "FROM dbo.honeyproduction\r\n",
                "WHERE year BETWEEN 1998 AND 2012\r\n",
                "GROUP BY year\r\n",
                "ORDER BY year\r\n",
                ""
            ],
            "metadata": {
                "azdata_cell_guid": "f5f310de-9155-4ff4-9ac9-6022a0d17cc3",
                "language": "sql"
            },
            "outputs": [
                {
                    "output_type": "display_data",
                    "data": {
                        "text/html": "(15 rows affected)"
                    },
                    "metadata": {}
                },
                {
                    "output_type": "display_data",
                    "data": {
                        "text/html": "Total execution time: 00:00:00.005"
                    },
                    "metadata": {}
                },
                {
                    "output_type": "execute_result",
                    "execution_count": 14,
                    "data": {
                        "application/vnd.dataresource+json": {
                            "schema": {
                                "fields": [
                                    {
                                        "name": "year"
                                    },
                                    {
                                        "name": "Year_Yield"
                                    }
                                ]
                            },
                            "data": [
                                {
                                    "year": "1998",
                                    "Year_Yield": "69"
                                },
                                {
                                    "year": "1999",
                                    "Year_Yield": "65"
                                },
                                {
                                    "year": "2000",
                                    "Year_Yield": "67"
                                },
                                {
                                    "year": "2001",
                                    "Year_Yield": "64"
                                },
                                {
                                    "year": "2002",
                                    "Year_Yield": "66"
                                },
                                {
                                    "year": "2003",
                                    "Year_Yield": "62"
                                },
                                {
                                    "year": "2004",
                                    "Year_Yield": "64"
                                },
                                {
                                    "year": "2005",
                                    "Year_Yield": "64"
                                },
                                {
                                    "year": "2006",
                                    "Year_Yield": "61"
                                },
                                {
                                    "year": "2007",
                                    "Year_Yield": "59"
                                },
                                {
                                    "year": "2008",
                                    "Year_Yield": "61"
                                },
                                {
                                    "year": "2009",
                                    "Year_Yield": "53"
                                },
                                {
                                    "year": "2010",
                                    "Year_Yield": "56"
                                },
                                {
                                    "year": "2011",
                                    "Year_Yield": "54"
                                },
                                {
                                    "year": "2012",
                                    "Year_Yield": "55"
                                }
                            ]
                        },
                        "text/html": "<table><tr><th>year</th><th>Year_Yield</th></tr><tr><td>1998</td><td>69</td></tr><tr><td>1999</td><td>65</td></tr><tr><td>2000</td><td>67</td></tr><tr><td>2001</td><td>64</td></tr><tr><td>2002</td><td>66</td></tr><tr><td>2003</td><td>62</td></tr><tr><td>2004</td><td>64</td></tr><tr><td>2005</td><td>64</td></tr><tr><td>2006</td><td>61</td></tr><tr><td>2007</td><td>59</td></tr><tr><td>2008</td><td>61</td></tr><tr><td>2009</td><td>53</td></tr><tr><td>2010</td><td>56</td></tr><tr><td>2011</td><td>54</td></tr><tr><td>2012</td><td>55</td></tr></table>"
                    },
                    "metadata": {
                        "azdata_chartOptions": {
                            "type": "horizontalBar",
                            "dataDirection": "horizontal",
                            "columnsAsLabels": true,
                            "labelFirstColumn": true,
                            "legendPosition": "top",
                            "xAxisLabel": "Average Yield per Colony"
                        }
                    }
                }
            ],
            "execution_count": 14
        }
    ]
}